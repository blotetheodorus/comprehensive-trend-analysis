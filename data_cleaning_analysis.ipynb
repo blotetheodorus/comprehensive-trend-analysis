{
 "cells": [
  {
   "metadata": {},
   "cell_type": "markdown",
   "source": [
    "# Trend Analysis: Comprehensive Data Cleaning\n",
    "\n",
    "This project takes a customer sales dataset for a fictional electronics company and walks through necessary steps for efficient data analysis, including comprehensive data cleaning. The goal is to ensure accurate data for effective analysis and visualization, producing valuable insights for key decision-making."
   ],
   "id": "4e3af8ec93b01206"
  },
  {
   "metadata": {},
   "cell_type": "markdown",
   "source": "## Import necessary libraries",
   "id": "d6bd2afc92585e01"
  },
  {
   "metadata": {
    "ExecuteTime": {
     "end_time": "2024-10-16T21:45:38.611011Z",
     "start_time": "2024-10-16T21:45:29.296794Z"
    }
   },
   "cell_type": "code",
   "source": [
    "import pandas as pd\n",
    "import seaborn as sns\n",
    "import matplotlib.pyplot as plt"
   ],
   "id": "70057073c3674ccc",
   "outputs": [],
   "execution_count": 2
  },
  {
   "metadata": {},
   "cell_type": "markdown",
   "source": [
    "## Load dataset\n",
    "\n",
    "Here, we load the dataset to explore its structure and content, starting with visualizing the first few rows."
   ],
   "id": "2d158f3785de6724"
  },
  {
   "metadata": {
    "ExecuteTime": {
     "end_time": "2024-10-16T21:45:42.824312Z",
     "start_time": "2024-10-16T21:45:42.789008Z"
    }
   },
   "cell_type": "code",
   "source": [
    "# Load dataset\n",
    "df = pd.read_csv('customer_sales.csv')\n",
    "\n",
    "# View first few rows\n",
    "df.head()"
   ],
   "id": "8df57c622a5e8fa1",
   "outputs": [
    {
     "data": {
      "text/plain": [
       "  CustomerID              Name                       Email PurchaseDate  \\\n",
       "0  CUST00001  James Parker Jr.    lorimatthews@example.net   24/11/2020   \n",
       "1  CUST00001  James Parker Jr.    lorimatthews@example.net   24/11/2020   \n",
       "2  CUST00003   Margaret Weaver         vbutler@example.org   11/11/2015   \n",
       "3  CUST00004         Eric Vega         ubarnes@example.org    18/1/2024   \n",
       "4  CUST00005      Alyssa Smith  goodmannichole@example.org    30/6/2024   \n",
       "\n",
       "      Product  Quantity  UnitPrice  TotalAmount  \n",
       "0      Router       2.0       80.0        160.0  \n",
       "1      Router       2.0       80.0        160.0  \n",
       "2  Smartwatch       1.0      200.0         -2.0  \n",
       "3      Laptop       1.0     1000.0       3000.0  \n",
       "4      Tablet       2.0      400.0        800.0  "
      ],
      "text/html": [
       "<div>\n",
       "<style scoped>\n",
       "    .dataframe tbody tr th:only-of-type {\n",
       "        vertical-align: middle;\n",
       "    }\n",
       "\n",
       "    .dataframe tbody tr th {\n",
       "        vertical-align: top;\n",
       "    }\n",
       "\n",
       "    .dataframe thead th {\n",
       "        text-align: right;\n",
       "    }\n",
       "</style>\n",
       "<table border=\"1\" class=\"dataframe\">\n",
       "  <thead>\n",
       "    <tr style=\"text-align: right;\">\n",
       "      <th></th>\n",
       "      <th>CustomerID</th>\n",
       "      <th>Name</th>\n",
       "      <th>Email</th>\n",
       "      <th>PurchaseDate</th>\n",
       "      <th>Product</th>\n",
       "      <th>Quantity</th>\n",
       "      <th>UnitPrice</th>\n",
       "      <th>TotalAmount</th>\n",
       "    </tr>\n",
       "  </thead>\n",
       "  <tbody>\n",
       "    <tr>\n",
       "      <th>0</th>\n",
       "      <td>CUST00001</td>\n",
       "      <td>James Parker Jr.</td>\n",
       "      <td>lorimatthews@example.net</td>\n",
       "      <td>24/11/2020</td>\n",
       "      <td>Router</td>\n",
       "      <td>2.0</td>\n",
       "      <td>80.0</td>\n",
       "      <td>160.0</td>\n",
       "    </tr>\n",
       "    <tr>\n",
       "      <th>1</th>\n",
       "      <td>CUST00001</td>\n",
       "      <td>James Parker Jr.</td>\n",
       "      <td>lorimatthews@example.net</td>\n",
       "      <td>24/11/2020</td>\n",
       "      <td>Router</td>\n",
       "      <td>2.0</td>\n",
       "      <td>80.0</td>\n",
       "      <td>160.0</td>\n",
       "    </tr>\n",
       "    <tr>\n",
       "      <th>2</th>\n",
       "      <td>CUST00003</td>\n",
       "      <td>Margaret Weaver</td>\n",
       "      <td>vbutler@example.org</td>\n",
       "      <td>11/11/2015</td>\n",
       "      <td>Smartwatch</td>\n",
       "      <td>1.0</td>\n",
       "      <td>200.0</td>\n",
       "      <td>-2.0</td>\n",
       "    </tr>\n",
       "    <tr>\n",
       "      <th>3</th>\n",
       "      <td>CUST00004</td>\n",
       "      <td>Eric Vega</td>\n",
       "      <td>ubarnes@example.org</td>\n",
       "      <td>18/1/2024</td>\n",
       "      <td>Laptop</td>\n",
       "      <td>1.0</td>\n",
       "      <td>1000.0</td>\n",
       "      <td>3000.0</td>\n",
       "    </tr>\n",
       "    <tr>\n",
       "      <th>4</th>\n",
       "      <td>CUST00005</td>\n",
       "      <td>Alyssa Smith</td>\n",
       "      <td>goodmannichole@example.org</td>\n",
       "      <td>30/6/2024</td>\n",
       "      <td>Tablet</td>\n",
       "      <td>2.0</td>\n",
       "      <td>400.0</td>\n",
       "      <td>800.0</td>\n",
       "    </tr>\n",
       "  </tbody>\n",
       "</table>\n",
       "</div>"
      ]
     },
     "execution_count": 3,
     "metadata": {},
     "output_type": "execute_result"
    }
   ],
   "execution_count": 3
  },
  {
   "metadata": {},
   "cell_type": "markdown",
   "source": [
    "## Data overview\n",
    "\n",
    "Here, we check the dataset's structure further, including the data types of each column and the prescence of any missing values."
   ],
   "id": "3b99029f0e8b722c"
  },
  {
   "metadata": {
    "ExecuteTime": {
     "end_time": "2024-10-16T21:45:54.752373Z",
     "start_time": "2024-10-16T21:45:54.738189Z"
    }
   },
   "cell_type": "code",
   "source": [
    "# Identify data types\n",
    "df.info()"
   ],
   "id": "3ff3129a0585250f",
   "outputs": [
    {
     "name": "stdout",
     "output_type": "stream",
     "text": [
      "<class 'pandas.core.frame.DataFrame'>\n",
      "RangeIndex: 10000 entries, 0 to 9999\n",
      "Data columns (total 8 columns):\n",
      " #   Column        Non-Null Count  Dtype  \n",
      "---  ------        --------------  -----  \n",
      " 0   CustomerID    9997 non-null   object \n",
      " 1   Name          9998 non-null   object \n",
      " 2   Email         9997 non-null   object \n",
      " 3   PurchaseDate  10000 non-null  object \n",
      " 4   Product       10000 non-null  object \n",
      " 5   Quantity      9996 non-null   float64\n",
      " 6   UnitPrice     9997 non-null   float64\n",
      " 7   TotalAmount   9996 non-null   float64\n",
      "dtypes: float64(3), object(5)\n",
      "memory usage: 625.1+ KB\n"
     ]
    }
   ],
   "execution_count": 4
  },
  {
   "metadata": {
    "ExecuteTime": {
     "end_time": "2024-10-16T21:45:59.795589Z",
     "start_time": "2024-10-16T21:45:59.775028Z"
    }
   },
   "cell_type": "code",
   "source": [
    "# Check for missing values\n",
    "df.isnull().sum()"
   ],
   "id": "90a8cac265724b32",
   "outputs": [
    {
     "data": {
      "text/plain": [
       "CustomerID      3\n",
       "Name            2\n",
       "Email           3\n",
       "PurchaseDate    0\n",
       "Product         0\n",
       "Quantity        4\n",
       "UnitPrice       3\n",
       "TotalAmount     4\n",
       "dtype: int64"
      ]
     },
     "execution_count": 5,
     "metadata": {},
     "output_type": "execute_result"
    }
   ],
   "execution_count": 5
  },
  {
   "metadata": {
    "ExecuteTime": {
     "end_time": "2024-10-16T21:46:04.519487Z",
     "start_time": "2024-10-16T21:46:04.510463Z"
    }
   },
   "cell_type": "code",
   "source": [
    "# Show rows with missing values\n",
    "df[df.isnull().any(axis=1)]"
   ],
   "id": "848b953935f30185",
   "outputs": [
    {
     "data": {
      "text/plain": [
       "     CustomerID             Name                        Email PurchaseDate  \\\n",
       "11    CUST00015     Mary Mathews                          NaN   28/10/2021   \n",
       "16    CUST00020   David Campbell                          NaN     5/4/2021   \n",
       "28    CUST00032              NaN           ysmith@example.com   21/11/2016   \n",
       "32    CUST00036     Alicia Marks                          NaN     7/7/2021   \n",
       "216   CUST00220    Brian Johnson           portiz@example.com     6/1/2016   \n",
       "223   CUST00227      Mary Murphy         justin86@example.com     6/2/2016   \n",
       "255   CUST00259  Laura Henderson          peter95@example.com    19/8/2022   \n",
       "296   CUST00300   Vanessa Gibson       rickybrown@example.org    19/3/2017   \n",
       "417   CUST00421      Sean Fisher  nicholasbernard@example.net    17/6/2019   \n",
       "520   CUST00524   Mrs. Lisa Wood       brianfrank@example.net     4/2/2017   \n",
       "591   CUST00595      Luis Steele      aprilbryant@example.org    1/11/2022   \n",
       "631   CUST00635    Allison Gates         robert12@example.org    26/7/2016   \n",
       "716   CUST00720   Laura Gonzalez      jonesthomas@example.org   13/11/2023   \n",
       "728   CUST00732   Jennifer Brown         tonyamay@example.org    10/2/2021   \n",
       "734   CUST00738    Scott Shelton       munozheidi@example.org    6/11/2022   \n",
       "9997        NaN  George Mckinney     lauriekelley@example.com    17/7/2021   \n",
       "9998        NaN    Cheryl Rogers           aevans@example.net    12/8/2021   \n",
       "9999        NaN              NaN          lmorgan@example.org    12/9/2022   \n",
       "\n",
       "              Product  Quantity  UnitPrice  TotalAmount  \n",
       "11             Camera       1.0      500.0        500.0  \n",
       "16             Laptop       1.0     1000.0       4000.0  \n",
       "28         Microphone       5.0      130.0        650.0  \n",
       "32             Router       3.0       80.0        240.0  \n",
       "216        Smartphone       NaN      700.0       2100.0  \n",
       "223          Keyboard       NaN      100.0        200.0  \n",
       "255          Keyboard       NaN      100.0        200.0  \n",
       "296            Tablet       NaN      400.0        400.0  \n",
       "417        Headphones       5.0        NaN        750.0  \n",
       "520           Speaker       4.0        NaN        720.0  \n",
       "591        Headphones       5.0        NaN        750.0  \n",
       "631            Router       5.0       80.0          NaN  \n",
       "716             Mouse       1.0       50.0          NaN  \n",
       "728        Headphones       2.0      150.0          NaN  \n",
       "734            Camera       1.0      500.0          NaN  \n",
       "9997           Monitr       4.0      300.0       1200.0  \n",
       "9998            Spker       2.0      180.0        360.0  \n",
       "9999  USB Flash Drive       3.0       20.0         60.0  "
      ],
      "text/html": [
       "<div>\n",
       "<style scoped>\n",
       "    .dataframe tbody tr th:only-of-type {\n",
       "        vertical-align: middle;\n",
       "    }\n",
       "\n",
       "    .dataframe tbody tr th {\n",
       "        vertical-align: top;\n",
       "    }\n",
       "\n",
       "    .dataframe thead th {\n",
       "        text-align: right;\n",
       "    }\n",
       "</style>\n",
       "<table border=\"1\" class=\"dataframe\">\n",
       "  <thead>\n",
       "    <tr style=\"text-align: right;\">\n",
       "      <th></th>\n",
       "      <th>CustomerID</th>\n",
       "      <th>Name</th>\n",
       "      <th>Email</th>\n",
       "      <th>PurchaseDate</th>\n",
       "      <th>Product</th>\n",
       "      <th>Quantity</th>\n",
       "      <th>UnitPrice</th>\n",
       "      <th>TotalAmount</th>\n",
       "    </tr>\n",
       "  </thead>\n",
       "  <tbody>\n",
       "    <tr>\n",
       "      <th>11</th>\n",
       "      <td>CUST00015</td>\n",
       "      <td>Mary Mathews</td>\n",
       "      <td>NaN</td>\n",
       "      <td>28/10/2021</td>\n",
       "      <td>Camera</td>\n",
       "      <td>1.0</td>\n",
       "      <td>500.0</td>\n",
       "      <td>500.0</td>\n",
       "    </tr>\n",
       "    <tr>\n",
       "      <th>16</th>\n",
       "      <td>CUST00020</td>\n",
       "      <td>David Campbell</td>\n",
       "      <td>NaN</td>\n",
       "      <td>5/4/2021</td>\n",
       "      <td>Laptop</td>\n",
       "      <td>1.0</td>\n",
       "      <td>1000.0</td>\n",
       "      <td>4000.0</td>\n",
       "    </tr>\n",
       "    <tr>\n",
       "      <th>28</th>\n",
       "      <td>CUST00032</td>\n",
       "      <td>NaN</td>\n",
       "      <td>ysmith@example.com</td>\n",
       "      <td>21/11/2016</td>\n",
       "      <td>Microphone</td>\n",
       "      <td>5.0</td>\n",
       "      <td>130.0</td>\n",
       "      <td>650.0</td>\n",
       "    </tr>\n",
       "    <tr>\n",
       "      <th>32</th>\n",
       "      <td>CUST00036</td>\n",
       "      <td>Alicia Marks</td>\n",
       "      <td>NaN</td>\n",
       "      <td>7/7/2021</td>\n",
       "      <td>Router</td>\n",
       "      <td>3.0</td>\n",
       "      <td>80.0</td>\n",
       "      <td>240.0</td>\n",
       "    </tr>\n",
       "    <tr>\n",
       "      <th>216</th>\n",
       "      <td>CUST00220</td>\n",
       "      <td>Brian Johnson</td>\n",
       "      <td>portiz@example.com</td>\n",
       "      <td>6/1/2016</td>\n",
       "      <td>Smartphone</td>\n",
       "      <td>NaN</td>\n",
       "      <td>700.0</td>\n",
       "      <td>2100.0</td>\n",
       "    </tr>\n",
       "    <tr>\n",
       "      <th>223</th>\n",
       "      <td>CUST00227</td>\n",
       "      <td>Mary Murphy</td>\n",
       "      <td>justin86@example.com</td>\n",
       "      <td>6/2/2016</td>\n",
       "      <td>Keyboard</td>\n",
       "      <td>NaN</td>\n",
       "      <td>100.0</td>\n",
       "      <td>200.0</td>\n",
       "    </tr>\n",
       "    <tr>\n",
       "      <th>255</th>\n",
       "      <td>CUST00259</td>\n",
       "      <td>Laura Henderson</td>\n",
       "      <td>peter95@example.com</td>\n",
       "      <td>19/8/2022</td>\n",
       "      <td>Keyboard</td>\n",
       "      <td>NaN</td>\n",
       "      <td>100.0</td>\n",
       "      <td>200.0</td>\n",
       "    </tr>\n",
       "    <tr>\n",
       "      <th>296</th>\n",
       "      <td>CUST00300</td>\n",
       "      <td>Vanessa Gibson</td>\n",
       "      <td>rickybrown@example.org</td>\n",
       "      <td>19/3/2017</td>\n",
       "      <td>Tablet</td>\n",
       "      <td>NaN</td>\n",
       "      <td>400.0</td>\n",
       "      <td>400.0</td>\n",
       "    </tr>\n",
       "    <tr>\n",
       "      <th>417</th>\n",
       "      <td>CUST00421</td>\n",
       "      <td>Sean Fisher</td>\n",
       "      <td>nicholasbernard@example.net</td>\n",
       "      <td>17/6/2019</td>\n",
       "      <td>Headphones</td>\n",
       "      <td>5.0</td>\n",
       "      <td>NaN</td>\n",
       "      <td>750.0</td>\n",
       "    </tr>\n",
       "    <tr>\n",
       "      <th>520</th>\n",
       "      <td>CUST00524</td>\n",
       "      <td>Mrs. Lisa Wood</td>\n",
       "      <td>brianfrank@example.net</td>\n",
       "      <td>4/2/2017</td>\n",
       "      <td>Speaker</td>\n",
       "      <td>4.0</td>\n",
       "      <td>NaN</td>\n",
       "      <td>720.0</td>\n",
       "    </tr>\n",
       "    <tr>\n",
       "      <th>591</th>\n",
       "      <td>CUST00595</td>\n",
       "      <td>Luis Steele</td>\n",
       "      <td>aprilbryant@example.org</td>\n",
       "      <td>1/11/2022</td>\n",
       "      <td>Headphones</td>\n",
       "      <td>5.0</td>\n",
       "      <td>NaN</td>\n",
       "      <td>750.0</td>\n",
       "    </tr>\n",
       "    <tr>\n",
       "      <th>631</th>\n",
       "      <td>CUST00635</td>\n",
       "      <td>Allison Gates</td>\n",
       "      <td>robert12@example.org</td>\n",
       "      <td>26/7/2016</td>\n",
       "      <td>Router</td>\n",
       "      <td>5.0</td>\n",
       "      <td>80.0</td>\n",
       "      <td>NaN</td>\n",
       "    </tr>\n",
       "    <tr>\n",
       "      <th>716</th>\n",
       "      <td>CUST00720</td>\n",
       "      <td>Laura Gonzalez</td>\n",
       "      <td>jonesthomas@example.org</td>\n",
       "      <td>13/11/2023</td>\n",
       "      <td>Mouse</td>\n",
       "      <td>1.0</td>\n",
       "      <td>50.0</td>\n",
       "      <td>NaN</td>\n",
       "    </tr>\n",
       "    <tr>\n",
       "      <th>728</th>\n",
       "      <td>CUST00732</td>\n",
       "      <td>Jennifer Brown</td>\n",
       "      <td>tonyamay@example.org</td>\n",
       "      <td>10/2/2021</td>\n",
       "      <td>Headphones</td>\n",
       "      <td>2.0</td>\n",
       "      <td>150.0</td>\n",
       "      <td>NaN</td>\n",
       "    </tr>\n",
       "    <tr>\n",
       "      <th>734</th>\n",
       "      <td>CUST00738</td>\n",
       "      <td>Scott Shelton</td>\n",
       "      <td>munozheidi@example.org</td>\n",
       "      <td>6/11/2022</td>\n",
       "      <td>Camera</td>\n",
       "      <td>1.0</td>\n",
       "      <td>500.0</td>\n",
       "      <td>NaN</td>\n",
       "    </tr>\n",
       "    <tr>\n",
       "      <th>9997</th>\n",
       "      <td>NaN</td>\n",
       "      <td>George Mckinney</td>\n",
       "      <td>lauriekelley@example.com</td>\n",
       "      <td>17/7/2021</td>\n",
       "      <td>Monitr</td>\n",
       "      <td>4.0</td>\n",
       "      <td>300.0</td>\n",
       "      <td>1200.0</td>\n",
       "    </tr>\n",
       "    <tr>\n",
       "      <th>9998</th>\n",
       "      <td>NaN</td>\n",
       "      <td>Cheryl Rogers</td>\n",
       "      <td>aevans@example.net</td>\n",
       "      <td>12/8/2021</td>\n",
       "      <td>Spker</td>\n",
       "      <td>2.0</td>\n",
       "      <td>180.0</td>\n",
       "      <td>360.0</td>\n",
       "    </tr>\n",
       "    <tr>\n",
       "      <th>9999</th>\n",
       "      <td>NaN</td>\n",
       "      <td>NaN</td>\n",
       "      <td>lmorgan@example.org</td>\n",
       "      <td>12/9/2022</td>\n",
       "      <td>USB Flash Drive</td>\n",
       "      <td>3.0</td>\n",
       "      <td>20.0</td>\n",
       "      <td>60.0</td>\n",
       "    </tr>\n",
       "  </tbody>\n",
       "</table>\n",
       "</div>"
      ]
     },
     "execution_count": 6,
     "metadata": {},
     "output_type": "execute_result"
    }
   ],
   "execution_count": 6
  },
  {
   "metadata": {},
   "cell_type": "markdown",
   "source": [
    "## Handle missing values\n",
    "\n",
    "Here, we handle the missing values identified in the dataset by dropping and imputing data, depending on the nature of the column."
   ],
   "id": "e7407d2661ebf91b"
  },
  {
   "metadata": {
    "ExecuteTime": {
     "end_time": "2024-10-16T21:46:52.498798Z",
     "start_time": "2024-10-16T21:46:52.488571Z"
    }
   },
   "cell_type": "code",
   "source": [
    "def handle_missing_values(df):\n",
    "    \"\"\"\n",
    "    Function to handle missing values using various strategies.\n",
    "    \n",
    "    :param df: DataFrame with missing values.\n",
    "    :return: DataFrame without missing values.\n",
    "    \"\"\"\n",
    "    # Drop rows with missing values in critical columns\n",
    "    df.dropna(subset=['CustomerID', 'Name', 'Email'], inplace=True)\n",
    "\n",
    "    # Impute 'Quantity' where missing\n",
    "    mask_quantity = (\n",
    "        df['Quantity'].isnull() &\n",
    "        df['TotalAmount'].notnull() &\n",
    "        df['UnitPrice'].notnull()\n",
    "    )\n",
    "    df.loc[mask_quantity, 'Quantity'] = (\n",
    "        df.loc[mask_quantity, 'TotalAmount'] /\n",
    "        df.loc[mask_quantity, 'UnitPrice']\n",
    "    )\n",
    "\n",
    "    # Impute 'UnitPrice' where missing\n",
    "    mask_unitprice = (\n",
    "        df['UnitPrice'].isnull() &\n",
    "        df['TotalAmount'].notnull() &\n",
    "        df['Quantity'].notnull()\n",
    "    )\n",
    "    df.loc[mask_unitprice, 'UnitPrice'] = (\n",
    "        df.loc[mask_unitprice, 'TotalAmount'] /\n",
    "        df.loc[mask_unitprice, 'Quantity']\n",
    "    )\n",
    "\n",
    "    # Impute 'TotalAmount' where missing\n",
    "    mask_totalamount = (\n",
    "        df['TotalAmount'].isnull() &\n",
    "        df['Quantity'].notnull() &\n",
    "        df['UnitPrice'].notnull()\n",
    "    )\n",
    "    df.loc[mask_totalamount, 'TotalAmount'] = (\n",
    "        df.loc[mask_totalamount, 'Quantity'] *\n",
    "        df.loc[mask_totalamount, 'UnitPrice']\n",
    "    )\n",
    "\n",
    "    return df\n",
    "\n",
    "df = handle_missing_values(df)"
   ],
   "id": "7731b2a769e6397b",
   "outputs": [],
   "execution_count": 7
  },
  {
   "metadata": {},
   "cell_type": "markdown",
   "source": [
    "## Checking for duplicates\n",
    "\n",
    "Next, we check for any duplicate rows in the dataset and remove them to ensure data integrity."
   ],
   "id": "99a56cedd6d9aac2"
  },
  {
   "metadata": {
    "ExecuteTime": {
     "end_time": "2024-10-16T21:47:37.870519Z",
     "start_time": "2024-10-16T21:47:37.839233Z"
    }
   },
   "cell_type": "code",
   "source": [
    "# Check for duplicate rows\n",
    "df[df.duplicated(keep=False)]"
   ],
   "id": "bf18fceb3de4fbcb",
   "outputs": [
    {
     "data": {
      "text/plain": [
       "  CustomerID              Name                     Email PurchaseDate Product  \\\n",
       "0  CUST00001  James Parker Jr.  lorimatthews@example.net   24/11/2020  Router   \n",
       "1  CUST00001  James Parker Jr.  lorimatthews@example.net   24/11/2020  Router   \n",
       "\n",
       "   Quantity  UnitPrice  TotalAmount  \n",
       "0       2.0       80.0        160.0  \n",
       "1       2.0       80.0        160.0  "
      ],
      "text/html": [
       "<div>\n",
       "<style scoped>\n",
       "    .dataframe tbody tr th:only-of-type {\n",
       "        vertical-align: middle;\n",
       "    }\n",
       "\n",
       "    .dataframe tbody tr th {\n",
       "        vertical-align: top;\n",
       "    }\n",
       "\n",
       "    .dataframe thead th {\n",
       "        text-align: right;\n",
       "    }\n",
       "</style>\n",
       "<table border=\"1\" class=\"dataframe\">\n",
       "  <thead>\n",
       "    <tr style=\"text-align: right;\">\n",
       "      <th></th>\n",
       "      <th>CustomerID</th>\n",
       "      <th>Name</th>\n",
       "      <th>Email</th>\n",
       "      <th>PurchaseDate</th>\n",
       "      <th>Product</th>\n",
       "      <th>Quantity</th>\n",
       "      <th>UnitPrice</th>\n",
       "      <th>TotalAmount</th>\n",
       "    </tr>\n",
       "  </thead>\n",
       "  <tbody>\n",
       "    <tr>\n",
       "      <th>0</th>\n",
       "      <td>CUST00001</td>\n",
       "      <td>James Parker Jr.</td>\n",
       "      <td>lorimatthews@example.net</td>\n",
       "      <td>24/11/2020</td>\n",
       "      <td>Router</td>\n",
       "      <td>2.0</td>\n",
       "      <td>80.0</td>\n",
       "      <td>160.0</td>\n",
       "    </tr>\n",
       "    <tr>\n",
       "      <th>1</th>\n",
       "      <td>CUST00001</td>\n",
       "      <td>James Parker Jr.</td>\n",
       "      <td>lorimatthews@example.net</td>\n",
       "      <td>24/11/2020</td>\n",
       "      <td>Router</td>\n",
       "      <td>2.0</td>\n",
       "      <td>80.0</td>\n",
       "      <td>160.0</td>\n",
       "    </tr>\n",
       "  </tbody>\n",
       "</table>\n",
       "</div>"
      ]
     },
     "execution_count": 8,
     "metadata": {},
     "output_type": "execute_result"
    }
   ],
   "execution_count": 8
  },
  {
   "metadata": {
    "ExecuteTime": {
     "end_time": "2024-10-16T21:47:43.977171Z",
     "start_time": "2024-10-16T21:47:43.971433Z"
    }
   },
   "cell_type": "code",
   "source": [
    "# Drop exact duplicates\n",
    "df.drop_duplicates(inplace=True)"
   ],
   "id": "32aac8d38f95b11f",
   "outputs": [],
   "execution_count": 9
  },
  {
   "metadata": {},
   "cell_type": "markdown",
   "source": [
    "## Detect partial duplicates\n",
    "\n",
    "We also check for partial duplicates in the data based on key identifiers, to ensure any remaining duplicates are valid."
   ],
   "id": "e0f2184f4dc0f7c4"
  },
  {
   "metadata": {
    "ExecuteTime": {
     "end_time": "2024-10-16T21:47:53.500199Z",
     "start_time": "2024-10-16T21:47:53.489420Z"
    }
   },
   "cell_type": "code",
   "source": [
    "# Detect partial duplicates based on key identifiers\n",
    "df[df.duplicated(subset=['CustomerID', 'Name', 'Email'], keep=False)]"
   ],
   "id": "e711d4fae6aa977e",
   "outputs": [
    {
     "data": {
      "text/plain": [
       "   CustomerID            Name                      Email PurchaseDate  \\\n",
       "71  CUST00075  David Jennings  reginaramirez@example.org    18/5/2021   \n",
       "72  CUST00075  David Jennings  reginaramirez@example.org    22/3/2015   \n",
       "\n",
       "    Product  Quantity  UnitPrice  TotalAmount  \n",
       "71  Printer       5.0      250.0       1250.0  \n",
       "72  Speaker       1.0      180.0        180.0  "
      ],
      "text/html": [
       "<div>\n",
       "<style scoped>\n",
       "    .dataframe tbody tr th:only-of-type {\n",
       "        vertical-align: middle;\n",
       "    }\n",
       "\n",
       "    .dataframe tbody tr th {\n",
       "        vertical-align: top;\n",
       "    }\n",
       "\n",
       "    .dataframe thead th {\n",
       "        text-align: right;\n",
       "    }\n",
       "</style>\n",
       "<table border=\"1\" class=\"dataframe\">\n",
       "  <thead>\n",
       "    <tr style=\"text-align: right;\">\n",
       "      <th></th>\n",
       "      <th>CustomerID</th>\n",
       "      <th>Name</th>\n",
       "      <th>Email</th>\n",
       "      <th>PurchaseDate</th>\n",
       "      <th>Product</th>\n",
       "      <th>Quantity</th>\n",
       "      <th>UnitPrice</th>\n",
       "      <th>TotalAmount</th>\n",
       "    </tr>\n",
       "  </thead>\n",
       "  <tbody>\n",
       "    <tr>\n",
       "      <th>71</th>\n",
       "      <td>CUST00075</td>\n",
       "      <td>David Jennings</td>\n",
       "      <td>reginaramirez@example.org</td>\n",
       "      <td>18/5/2021</td>\n",
       "      <td>Printer</td>\n",
       "      <td>5.0</td>\n",
       "      <td>250.0</td>\n",
       "      <td>1250.0</td>\n",
       "    </tr>\n",
       "    <tr>\n",
       "      <th>72</th>\n",
       "      <td>CUST00075</td>\n",
       "      <td>David Jennings</td>\n",
       "      <td>reginaramirez@example.org</td>\n",
       "      <td>22/3/2015</td>\n",
       "      <td>Speaker</td>\n",
       "      <td>1.0</td>\n",
       "      <td>180.0</td>\n",
       "      <td>180.0</td>\n",
       "    </tr>\n",
       "  </tbody>\n",
       "</table>\n",
       "</div>"
      ]
     },
     "execution_count": 10,
     "metadata": {},
     "output_type": "execute_result"
    }
   ],
   "execution_count": 10
  },
  {
   "metadata": {},
   "cell_type": "markdown",
   "source": [
    "## Standardizing dates\n",
    "\n",
    "We standardize the date format to maintain consistency across the dataset. This ensures that all dates follow the same format."
   ],
   "id": "de6e659c862bc8a5"
  },
  {
   "metadata": {
    "ExecuteTime": {
     "end_time": "2024-10-16T21:48:30.615113Z",
     "start_time": "2024-10-16T21:48:30.563769Z"
    }
   },
   "cell_type": "code",
   "source": [
    "# Standardisz dates\n",
    "def standardize_dates(df, column, dayfirst=False):\n",
    "    \"\"\"\n",
    "    Function to standardize dates.\n",
    "    \n",
    "    :param df: DataFrame containing date column.\n",
    "    :param column: Column to be standardized.\n",
    "    :param dayfirst: Indicates if day comes first in the date format.\n",
    "    :return: DataFrame with standardized date formats.\n",
    "    \"\"\"\n",
    "    df[column] = pd.to_datetime(df[column], dayfirst=dayfirst).dt.strftime('%Y/%m/%d')\n",
    "    return df\n",
    "\n",
    "df = standardize_dates(df, 'PurchaseDate', dayfirst=True)"
   ],
   "id": "aca8a9fcccc5ce86",
   "outputs": [],
   "execution_count": 11
  },
  {
   "metadata": {},
   "cell_type": "markdown",
   "source": [
    "## Standardize capitalization\n",
    "\n",
    "Here, we standardize capitalization to ensure uniformity."
   ],
   "id": "f23a4be7d1c6cedd"
  },
  {
   "metadata": {
    "ExecuteTime": {
     "end_time": "2024-10-16T21:48:40.203108Z",
     "start_time": "2024-10-16T21:48:40.194989Z"
    }
   },
   "cell_type": "code",
   "source": [
    "# Standardize capitalisation\n",
    "def standardize_capitalisation(df, columns):\n",
    "    '''\n",
    "    Function to standardize capitalisation.\n",
    "    \n",
    "    :param df: DataFrame containing columns.\n",
    "    :param columns: List of columns to be standardized.\n",
    "    :return: DataFrame with standardized capitalisation.\n",
    "    '''\n",
    "    for column in columns:\n",
    "        # Get the first entry for each column\n",
    "        first_entry = df[column].iloc[0]\n",
    "        \n",
    "        # Determine the capitalisation style of the first entry\n",
    "        if first_entry.islower():\n",
    "            case = 'lower'\n",
    "        elif first_entry.isupper():\n",
    "            case = 'upper'\n",
    "        else:\n",
    "            case = 'title'\n",
    "        \n",
    "        if case == 'lower':\n",
    "            df[column] = df[column].str.lower()\n",
    "        elif case == 'upper':\n",
    "            df[column] = df[column].str.upper()\n",
    "        else:\n",
    "            df[column] = df[column].str.title()\n",
    "            \n",
    "    return df\n",
    "\n",
    "df = standardize_capitalisation(df, ['Name', 'Email', 'Product'])"
   ],
   "id": "3dc25622f84b43ad",
   "outputs": [],
   "execution_count": 12
  },
  {
   "metadata": {},
   "cell_type": "markdown",
   "source": [
    "## Converting data types\n",
    "\n",
    "We ensure numerical values are of the correct data type and monetary values are rounded to two decimal places."
   ],
   "id": "32c8a1ce1e1f479"
  },
  {
   "metadata": {
    "ExecuteTime": {
     "end_time": "2024-10-16T21:49:28.153552Z",
     "start_time": "2024-10-16T21:49:28.132860Z"
    }
   },
   "cell_type": "code",
   "source": [
    "# Convert data types\n",
    "df['Quantity'] = df['Quantity'].astype(int)\n",
    "df['UnitPrice'] = df['UnitPrice'].astype(float)\n",
    "\n",
    "# Round monetary values to two decimal places\n",
    "df[['UnitPrice', 'TotalAmount']] = df[['UnitPrice', 'TotalAmount']].round(2)"
   ],
   "id": "63451d4e5d3ec042",
   "outputs": [],
   "execution_count": 13
  },
  {
   "metadata": {},
   "cell_type": "markdown",
   "source": [
    "## Removing leading/trailing spaces\n",
    "\n",
    "To avoid inconsistencies due to accidental spaces, we remove leading and trailing spaces from all string columns."
   ],
   "id": "10e5ad6540344a5f"
  },
  {
   "metadata": {
    "ExecuteTime": {
     "end_time": "2024-10-16T21:50:14.420649Z",
     "start_time": "2024-10-16T21:50:14.403899Z"
    }
   },
   "cell_type": "code",
   "source": [
    "# Remove leading/trailing spaces from string columns\n",
    "def remove_spaces(df):\n",
    "    \"\"\"\n",
    "    Function to remove leading/trailing spaces from string columns.\n",
    "    \n",
    "    :param df: DataFrame to process.\n",
    "    :return: DataFrame with stripped string columns.\n",
    "    \"\"\"\n",
    "    # Select columns with 'object' (string) dtype\n",
    "    object_columns = df.select_dtypes(include='object').columns\n",
    "    \n",
    "    for column in object_columns:\n",
    "        df[column] = df[column].str.strip()\n",
    "        \n",
    "    return df\n",
    "\n",
    "df = remove_spaces(df)"
   ],
   "id": "2a52984c68bc6a20",
   "outputs": [],
   "execution_count": 14
  },
  {
   "metadata": {},
   "cell_type": "markdown",
   "source": [
    "## Checking for typos\n",
    "\n",
    "We check for and correct any typos errors in the 'Product' column."
   ],
   "id": "b6f62e2af1a9bf50"
  },
  {
   "metadata": {
    "ExecuteTime": {
     "end_time": "2024-10-16T21:50:45.211541Z",
     "start_time": "2024-10-16T21:50:45.205138Z"
    }
   },
   "cell_type": "code",
   "source": [
    "# Check unique values in product column to ensure no typos\n",
    "df['Product'].unique()"
   ],
   "id": "f49eafeed2e53b2a",
   "outputs": [
    {
     "data": {
      "text/plain": [
       "array(['Router', 'Smartwatch', 'Laptop', 'Tablet', 'Printer', 'Camera',\n",
       "       'Microphone', 'Monitor', 'Speaker', 'Mouse', 'Keyboard',\n",
       "       'Smartphone', 'External Hard Drive', 'Usb Flash Drive',\n",
       "       'Headphones'], dtype=object)"
      ]
     },
     "execution_count": 15,
     "metadata": {},
     "output_type": "execute_result"
    }
   ],
   "execution_count": 15
  },
  {
   "metadata": {
    "ExecuteTime": {
     "end_time": "2024-10-16T21:50:49.920399Z",
     "start_time": "2024-10-16T21:50:49.915768Z"
    }
   },
   "cell_type": "code",
   "source": [
    "# Correct typos\n",
    "corrections = {\n",
    "    'Spker': 'Speaker',\n",
    "    'Monitr': 'Monitor'\n",
    "}\n",
    "\n",
    "df['Product'] = df['Product'].replace(corrections)"
   ],
   "id": "9117230cd882d729",
   "outputs": [],
   "execution_count": 16
  },
  {
   "metadata": {},
   "cell_type": "markdown",
   "source": [
    "## Handling negative values\n",
    "\n",
    "We detect and convert any negative values in the numeric columns to absolute values."
   ],
   "id": "3147f69ef8b8caae"
  },
  {
   "metadata": {
    "ExecuteTime": {
     "end_time": "2024-10-16T21:51:09.481920Z",
     "start_time": "2024-10-16T21:51:09.467897Z"
    }
   },
   "cell_type": "code",
   "source": [
    "# Check for negative values in numeric columns\n",
    "df[\n",
    "    (df['Quantity'] < 0) |\n",
    "    (df['UnitPrice'] < 0) |\n",
    "    (df['TotalAmount'] < 0)\n",
    "]"
   ],
   "id": "e6487c5ac0c0ab75",
   "outputs": [
    {
     "data": {
      "text/plain": [
       "   CustomerID             Name                Email PurchaseDate     Product  \\\n",
       "2   CUST00003  Margaret Weaver  vbutler@example.org   2015/11/11  Smartwatch   \n",
       "14  CUST00018   James Ferguson  roger20@example.org   2015/12/01     Monitor   \n",
       "\n",
       "    Quantity  UnitPrice  TotalAmount  \n",
       "2          1      200.0         -2.0  \n",
       "14         2      300.0       -600.0  "
      ],
      "text/html": [
       "<div>\n",
       "<style scoped>\n",
       "    .dataframe tbody tr th:only-of-type {\n",
       "        vertical-align: middle;\n",
       "    }\n",
       "\n",
       "    .dataframe tbody tr th {\n",
       "        vertical-align: top;\n",
       "    }\n",
       "\n",
       "    .dataframe thead th {\n",
       "        text-align: right;\n",
       "    }\n",
       "</style>\n",
       "<table border=\"1\" class=\"dataframe\">\n",
       "  <thead>\n",
       "    <tr style=\"text-align: right;\">\n",
       "      <th></th>\n",
       "      <th>CustomerID</th>\n",
       "      <th>Name</th>\n",
       "      <th>Email</th>\n",
       "      <th>PurchaseDate</th>\n",
       "      <th>Product</th>\n",
       "      <th>Quantity</th>\n",
       "      <th>UnitPrice</th>\n",
       "      <th>TotalAmount</th>\n",
       "    </tr>\n",
       "  </thead>\n",
       "  <tbody>\n",
       "    <tr>\n",
       "      <th>2</th>\n",
       "      <td>CUST00003</td>\n",
       "      <td>Margaret Weaver</td>\n",
       "      <td>vbutler@example.org</td>\n",
       "      <td>2015/11/11</td>\n",
       "      <td>Smartwatch</td>\n",
       "      <td>1</td>\n",
       "      <td>200.0</td>\n",
       "      <td>-2.0</td>\n",
       "    </tr>\n",
       "    <tr>\n",
       "      <th>14</th>\n",
       "      <td>CUST00018</td>\n",
       "      <td>James Ferguson</td>\n",
       "      <td>roger20@example.org</td>\n",
       "      <td>2015/12/01</td>\n",
       "      <td>Monitor</td>\n",
       "      <td>2</td>\n",
       "      <td>300.0</td>\n",
       "      <td>-600.0</td>\n",
       "    </tr>\n",
       "  </tbody>\n",
       "</table>\n",
       "</div>"
      ]
     },
     "execution_count": 17,
     "metadata": {},
     "output_type": "execute_result"
    }
   ],
   "execution_count": 17
  },
  {
   "metadata": {
    "ExecuteTime": {
     "end_time": "2024-10-16T21:51:13.422344Z",
     "start_time": "2024-10-16T21:51:13.420343Z"
    }
   },
   "cell_type": "code",
   "source": [
    "# Convert negative values to absolute values\n",
    "df['Quantity'] = df['Quantity'].abs()\n",
    "df['UnitPrice'] = df['UnitPrice'].abs()"
   ],
   "id": "98d82e4453b36bf5",
   "outputs": [],
   "execution_count": 18
  },
  {
   "metadata": {},
   "cell_type": "markdown",
   "source": [
    "## Handling outliers\n",
    "\n",
    "We visualize the data using box plots to detect outliers and define a function to identify outliers using the interquartile range (IQR) method."
   ],
   "id": "1c0dc6116dfe2016"
  },
  {
   "metadata": {
    "ExecuteTime": {
     "end_time": "2024-10-16T21:51:54.236081Z",
     "start_time": "2024-10-16T21:51:53.535360Z"
    }
   },
   "cell_type": "code",
   "source": [
    "# Visualise box plots for 'Quantity', 'UnitPrice', and 'TotalAmount'\n",
    "def visualise_box_plots(df, columns):\n",
    "    for column in columns:\n",
    "        plt.figure(figsize=(6, 6))\n",
    "        sns.boxplot(df[column])\n",
    "        plt.title(f'Box Plot of {column}')\n",
    "        plt.tight_layout()\n",
    "        plt.show()\n",
    "        \n",
    "visualise_box_plots(df, ['Quantity', 'UnitPrice', 'TotalAmount'])"
   ],
   "id": "d780b97c28b5e677",
   "outputs": [
    {
     "data": {
      "text/plain": [
       "<Figure size 600x600 with 1 Axes>"
      ],
      "image/png": "[encoded data removed]"
     },
     "metadata": {},
     "output_type": "display_data"
    },
    {
     "data": {
      "text/plain": [
       "<Figure size 600x600 with 1 Axes>"
      ],
      "image/png": "[encoded data removed]"
     },
     "metadata": {},
     "output_type": "display_data"
    },
    {
     "data": {
      "text/plain": [
       "<Figure size 600x600 with 1 Axes>"
      ],
      "image/png": "[encoded data removed]"
     },
     "metadata": {},
     "output_type": "display_data"
    }
   ],
   "execution_count": 19
  },
  {
   "metadata": {
    "ExecuteTime": {
     "end_time": "2024-10-16T21:52:04.509850Z",
     "start_time": "2024-10-16T21:52:04.499239Z"
    }
   },
   "cell_type": "code",
   "source": [
    "def detect_outliers(df, columns, multiplier=3):\n",
    "    \"\"\"\n",
    "    Identifies outliers based on IQR for specified columns.\n",
    "    \n",
    "    :param df: DataFrame.\n",
    "    :param columns: Columns with potential outliers.\n",
    "    :param multiplier: Multiplier for the IQR.\n",
    "    :return: DataFrame with outliers for all specified columns.\n",
    "    \"\"\"\n",
    "    outlier_mask = pd.Series(False, index=df.index)\n",
    "    \n",
    "    for column in columns:\n",
    "        Q1 = df[column].quantile(0.25)\n",
    "        Q3 = df[column].quantile(0.75)\n",
    "        IQR = Q3 - Q1\n",
    "        \n",
    "        lower_bound = Q1 - multiplier * IQR\n",
    "        upper_bound = Q3 + multiplier * IQR\n",
    "        \n",
    "        column_outliers = (df[column] < lower_bound) | (df[column] > upper_bound)\n",
    "        outlier_mask |= column_outliers\n",
    "        \n",
    "    outliers = df[outlier_mask]\n",
    "    \n",
    "    return outliers\n",
    "\n",
    "# Detect outliers\n",
    "detect_outliers(df, ['Quantity', 'UnitPrice', 'TotalAmount'])"
   ],
   "id": "4f8d0d2b75f81dcb",
   "outputs": [
    {
     "data": {
      "text/plain": [
       "     CustomerID              Name                       Email PurchaseDate  \\\n",
       "106   CUST00110       Eric Mosley      jennifer97@example.net   2023/06/18   \n",
       "126   CUST00130        Tracy Wise           blang@example.com   2018/06/08   \n",
       "132   CUST00136     Veronica Horn          clewis@example.com   2018/03/12   \n",
       "136   CUST00140   Lawrence Carson   chavezgregory@example.net   2015/12/23   \n",
       "192   CUST00196      David Fowler        edward17@example.com   2016/01/04   \n",
       "...         ...               ...                         ...          ...   \n",
       "9871  CUST09875       Grant Meyer      alexisrush@example.org   2024/05/15   \n",
       "9884  CUST09888  Christian Dudley     alexander16@example.com   2022/09/25   \n",
       "9947  CUST09951  Dr. Brett Garcia  sandovalshelby@example.com   2019/07/08   \n",
       "9987  CUST09991        Jason Reid  ortizalexandra@example.com   2020/10/21   \n",
       "9991  CUST09995       Keith Smith    crawfordjohn@example.org   2018/05/07   \n",
       "\n",
       "         Product  Quantity  UnitPrice  TotalAmount  \n",
       "106      Speaker         5      180.0      90000.0  \n",
       "126       Laptop         1     1000.0       4000.0  \n",
       "132   Smartphone         5      700.0       3500.0  \n",
       "136       Laptop         1     1000.0       5000.0  \n",
       "192   Smartphone         5      700.0       3500.0  \n",
       "...          ...       ...        ...          ...  \n",
       "9871      Laptop         4     1000.0       4000.0  \n",
       "9884  Smartphone         5      700.0       3500.0  \n",
       "9947  Smartphone         5      700.0       3500.0  \n",
       "9987  Smartphone         5      700.0       3500.0  \n",
       "9991      Laptop         5     1000.0       5000.0  \n",
       "\n",
       "[396 rows x 8 columns]"
      ],
      "text/html": [
       "<div>\n",
       "<style scoped>\n",
       "    .dataframe tbody tr th:only-of-type {\n",
       "        vertical-align: middle;\n",
       "    }\n",
       "\n",
       "    .dataframe tbody tr th {\n",
       "        vertical-align: top;\n",
       "    }\n",
       "\n",
       "    .dataframe thead th {\n",
       "        text-align: right;\n",
       "    }\n",
       "</style>\n",
       "<table border=\"1\" class=\"dataframe\">\n",
       "  <thead>\n",
       "    <tr style=\"text-align: right;\">\n",
       "      <th></th>\n",
       "      <th>CustomerID</th>\n",
       "      <th>Name</th>\n",
       "      <th>Email</th>\n",
       "      <th>PurchaseDate</th>\n",
       "      <th>Product</th>\n",
       "      <th>Quantity</th>\n",
       "      <th>UnitPrice</th>\n",
       "      <th>TotalAmount</th>\n",
       "    </tr>\n",
       "  </thead>\n",
       "  <tbody>\n",
       "    <tr>\n",
       "      <th>106</th>\n",
       "      <td>CUST00110</td>\n",
       "      <td>Eric Mosley</td>\n",
       "      <td>jennifer97@example.net</td>\n",
       "      <td>2023/06/18</td>\n",
       "      <td>Speaker</td>\n",
       "      <td>5</td>\n",
       "      <td>180.0</td>\n",
       "      <td>90000.0</td>\n",
       "    </tr>\n",
       "    <tr>\n",
       "      <th>126</th>\n",
       "      <td>CUST00130</td>\n",
       "      <td>Tracy Wise</td>\n",
       "      <td>blang@example.com</td>\n",
       "      <td>2018/06/08</td>\n",
       "      <td>Laptop</td>\n",
       "      <td>1</td>\n",
       "      <td>1000.0</td>\n",
       "      <td>4000.0</td>\n",
       "    </tr>\n",
       "    <tr>\n",
       "      <th>132</th>\n",
       "      <td>CUST00136</td>\n",
       "      <td>Veronica Horn</td>\n",
       "      <td>clewis@example.com</td>\n",
       "      <td>2018/03/12</td>\n",
       "      <td>Smartphone</td>\n",
       "      <td>5</td>\n",
       "      <td>700.0</td>\n",
       "      <td>3500.0</td>\n",
       "    </tr>\n",
       "    <tr>\n",
       "      <th>136</th>\n",
       "      <td>CUST00140</td>\n",
       "      <td>Lawrence Carson</td>\n",
       "      <td>chavezgregory@example.net</td>\n",
       "      <td>2015/12/23</td>\n",
       "      <td>Laptop</td>\n",
       "      <td>1</td>\n",
       "      <td>1000.0</td>\n",
       "      <td>5000.0</td>\n",
       "    </tr>\n",
       "    <tr>\n",
       "      <th>192</th>\n",
       "      <td>CUST00196</td>\n",
       "      <td>David Fowler</td>\n",
       "      <td>edward17@example.com</td>\n",
       "      <td>2016/01/04</td>\n",
       "      <td>Smartphone</td>\n",
       "      <td>5</td>\n",
       "      <td>700.0</td>\n",
       "      <td>3500.0</td>\n",
       "    </tr>\n",
       "    <tr>\n",
       "      <th>...</th>\n",
       "      <td>...</td>\n",
       "      <td>...</td>\n",
       "      <td>...</td>\n",
       "      <td>...</td>\n",
       "      <td>...</td>\n",
       "      <td>...</td>\n",
       "      <td>...</td>\n",
       "      <td>...</td>\n",
       "    </tr>\n",
       "    <tr>\n",
       "      <th>9871</th>\n",
       "      <td>CUST09875</td>\n",
       "      <td>Grant Meyer</td>\n",
       "      <td>alexisrush@example.org</td>\n",
       "      <td>2024/05/15</td>\n",
       "      <td>Laptop</td>\n",
       "      <td>4</td>\n",
       "      <td>1000.0</td>\n",
       "      <td>4000.0</td>\n",
       "    </tr>\n",
       "    <tr>\n",
       "      <th>9884</th>\n",
       "      <td>CUST09888</td>\n",
       "      <td>Christian Dudley</td>\n",
       "      <td>alexander16@example.com</td>\n",
       "      <td>2022/09/25</td>\n",
       "      <td>Smartphone</td>\n",
       "      <td>5</td>\n",
       "      <td>700.0</td>\n",
       "      <td>3500.0</td>\n",
       "    </tr>\n",
       "    <tr>\n",
       "      <th>9947</th>\n",
       "      <td>CUST09951</td>\n",
       "      <td>Dr. Brett Garcia</td>\n",
       "      <td>sandovalshelby@example.com</td>\n",
       "      <td>2019/07/08</td>\n",
       "      <td>Smartphone</td>\n",
       "      <td>5</td>\n",
       "      <td>700.0</td>\n",
       "      <td>3500.0</td>\n",
       "    </tr>\n",
       "    <tr>\n",
       "      <th>9987</th>\n",
       "      <td>CUST09991</td>\n",
       "      <td>Jason Reid</td>\n",
       "      <td>ortizalexandra@example.com</td>\n",
       "      <td>2020/10/21</td>\n",
       "      <td>Smartphone</td>\n",
       "      <td>5</td>\n",
       "      <td>700.0</td>\n",
       "      <td>3500.0</td>\n",
       "    </tr>\n",
       "    <tr>\n",
       "      <th>9991</th>\n",
       "      <td>CUST09995</td>\n",
       "      <td>Keith Smith</td>\n",
       "      <td>crawfordjohn@example.org</td>\n",
       "      <td>2018/05/07</td>\n",
       "      <td>Laptop</td>\n",
       "      <td>5</td>\n",
       "      <td>1000.0</td>\n",
       "      <td>5000.0</td>\n",
       "    </tr>\n",
       "  </tbody>\n",
       "</table>\n",
       "<p>396 rows × 8 columns</p>\n",
       "</div>"
      ]
     },
     "execution_count": 20,
     "metadata": {},
     "output_type": "execute_result"
    }
   ],
   "execution_count": 20
  },
  {
   "metadata": {
    "ExecuteTime": {
     "end_time": "2024-10-16T21:52:10.088826Z",
     "start_time": "2024-10-16T21:52:10.077713Z"
    }
   },
   "cell_type": "code",
   "source": [
    "# As identified outliers seem legitimate, only specific rows with apparent data entry errors will be dropped\n",
    "def drop_rows(df, indexes):\n",
    "    \"\"\"\n",
    "    Drops rows based on specified indexes.\n",
    "    \n",
    "    :param df: DataFrame from which to drop rows.\n",
    "    :param indexes: List of indexes to drop.\n",
    "    :return: DataFrame with specified rows removed.\n",
    "    \"\"\"\n",
    "    df.drop(indexes, inplace=True)\n",
    "    return df\n",
    "\n",
    "drop_rows(df, [319, 725, 761, 111])"
   ],
   "id": "8dc58101d70c2724",
   "outputs": [
    {
     "data": {
      "text/plain": [
       "     CustomerID              Name                        Email PurchaseDate  \\\n",
       "0     CUST00001  James Parker Jr.     lorimatthews@example.net   2020/11/24   \n",
       "2     CUST00003   Margaret Weaver          vbutler@example.org   2015/11/11   \n",
       "3     CUST00004         Eric Vega          ubarnes@example.org   2024/01/18   \n",
       "4     CUST00005      Alyssa Smith   goodmannichole@example.org   2024/06/30   \n",
       "5     CUST00006      Scott Vargas          kevin01@example.com   2019/08/23   \n",
       "...         ...               ...                          ...          ...   \n",
       "9992  CUST09996     Victor Walker    colleendavila@example.com   2018/04/23   \n",
       "9993  CUST09997    Kristen Fisher       jameslopez@example.net   2018/12/08   \n",
       "9994  CUST09998    Makayla Arnold     myersjessica@example.org   2023/03/04   \n",
       "9995  CUST09999    William Walker           brad54@example.org   2023/12/03   \n",
       "9996  CUST10000  William Mitchell  thompsonlindsay@example.net   2021/08/22   \n",
       "\n",
       "         Product  Quantity  UnitPrice  TotalAmount  \n",
       "0         Router         2       80.0        160.0  \n",
       "2     Smartwatch         1      200.0         -2.0  \n",
       "3         Laptop         1     1000.0       3000.0  \n",
       "4         Tablet         2      400.0        800.0  \n",
       "5         Router         1       80.0         80.0  \n",
       "...          ...       ...        ...          ...  \n",
       "9992      Camera         1      500.0       1500.0  \n",
       "9993      Camera         1      500.0       1500.0  \n",
       "9994      Tablet         4      400.0       1600.0  \n",
       "9995       Mouse         5       50.0        250.0  \n",
       "9996      Tablet         1      400.0        400.0  \n",
       "\n",
       "[9988 rows x 8 columns]"
      ],
      "text/html": [
       "<div>\n",
       "<style scoped>\n",
       "    .dataframe tbody tr th:only-of-type {\n",
       "        vertical-align: middle;\n",
       "    }\n",
       "\n",
       "    .dataframe tbody tr th {\n",
       "        vertical-align: top;\n",
       "    }\n",
       "\n",
       "    .dataframe thead th {\n",
       "        text-align: right;\n",
       "    }\n",
       "</style>\n",
       "<table border=\"1\" class=\"dataframe\">\n",
       "  <thead>\n",
       "    <tr style=\"text-align: right;\">\n",
       "      <th></th>\n",
       "      <th>CustomerID</th>\n",
       "      <th>Name</th>\n",
       "      <th>Email</th>\n",
       "      <th>PurchaseDate</th>\n",
       "      <th>Product</th>\n",
       "      <th>Quantity</th>\n",
       "      <th>UnitPrice</th>\n",
       "      <th>TotalAmount</th>\n",
       "    </tr>\n",
       "  </thead>\n",
       "  <tbody>\n",
       "    <tr>\n",
       "      <th>0</th>\n",
       "      <td>CUST00001</td>\n",
       "      <td>James Parker Jr.</td>\n",
       "      <td>lorimatthews@example.net</td>\n",
       "      <td>2020/11/24</td>\n",
       "      <td>Router</td>\n",
       "      <td>2</td>\n",
       "      <td>80.0</td>\n",
       "      <td>160.0</td>\n",
       "    </tr>\n",
       "    <tr>\n",
       "      <th>2</th>\n",
       "      <td>CUST00003</td>\n",
       "      <td>Margaret Weaver</td>\n",
       "      <td>vbutler@example.org</td>\n",
       "      <td>2015/11/11</td>\n",
       "      <td>Smartwatch</td>\n",
       "      <td>1</td>\n",
       "      <td>200.0</td>\n",
       "      <td>-2.0</td>\n",
       "    </tr>\n",
       "    <tr>\n",
       "      <th>3</th>\n",
       "      <td>CUST00004</td>\n",
       "      <td>Eric Vega</td>\n",
       "      <td>ubarnes@example.org</td>\n",
       "      <td>2024/01/18</td>\n",
       "      <td>Laptop</td>\n",
       "      <td>1</td>\n",
       "      <td>1000.0</td>\n",
       "      <td>3000.0</td>\n",
       "    </tr>\n",
       "    <tr>\n",
       "      <th>4</th>\n",
       "      <td>CUST00005</td>\n",
       "      <td>Alyssa Smith</td>\n",
       "      <td>goodmannichole@example.org</td>\n",
       "      <td>2024/06/30</td>\n",
       "      <td>Tablet</td>\n",
       "      <td>2</td>\n",
       "      <td>400.0</td>\n",
       "      <td>800.0</td>\n",
       "    </tr>\n",
       "    <tr>\n",
       "      <th>5</th>\n",
       "      <td>CUST00006</td>\n",
       "      <td>Scott Vargas</td>\n",
       "      <td>kevin01@example.com</td>\n",
       "      <td>2019/08/23</td>\n",
       "      <td>Router</td>\n",
       "      <td>1</td>\n",
       "      <td>80.0</td>\n",
       "      <td>80.0</td>\n",
       "    </tr>\n",
       "    <tr>\n",
       "      <th>...</th>\n",
       "      <td>...</td>\n",
       "      <td>...</td>\n",
       "      <td>...</td>\n",
       "      <td>...</td>\n",
       "      <td>...</td>\n",
       "      <td>...</td>\n",
       "      <td>...</td>\n",
       "      <td>...</td>\n",
       "    </tr>\n",
       "    <tr>\n",
       "      <th>9992</th>\n",
       "      <td>CUST09996</td>\n",
       "      <td>Victor Walker</td>\n",
       "      <td>colleendavila@example.com</td>\n",
       "      <td>2018/04/23</td>\n",
       "      <td>Camera</td>\n",
       "      <td>1</td>\n",
       "      <td>500.0</td>\n",
       "      <td>1500.0</td>\n",
       "    </tr>\n",
       "    <tr>\n",
       "      <th>9993</th>\n",
       "      <td>CUST09997</td>\n",
       "      <td>Kristen Fisher</td>\n",
       "      <td>jameslopez@example.net</td>\n",
       "      <td>2018/12/08</td>\n",
       "      <td>Camera</td>\n",
       "      <td>1</td>\n",
       "      <td>500.0</td>\n",
       "      <td>1500.0</td>\n",
       "    </tr>\n",
       "    <tr>\n",
       "      <th>9994</th>\n",
       "      <td>CUST09998</td>\n",
       "      <td>Makayla Arnold</td>\n",
       "      <td>myersjessica@example.org</td>\n",
       "      <td>2023/03/04</td>\n",
       "      <td>Tablet</td>\n",
       "      <td>4</td>\n",
       "      <td>400.0</td>\n",
       "      <td>1600.0</td>\n",
       "    </tr>\n",
       "    <tr>\n",
       "      <th>9995</th>\n",
       "      <td>CUST09999</td>\n",
       "      <td>William Walker</td>\n",
       "      <td>brad54@example.org</td>\n",
       "      <td>2023/12/03</td>\n",
       "      <td>Mouse</td>\n",
       "      <td>5</td>\n",
       "      <td>50.0</td>\n",
       "      <td>250.0</td>\n",
       "    </tr>\n",
       "    <tr>\n",
       "      <th>9996</th>\n",
       "      <td>CUST10000</td>\n",
       "      <td>William Mitchell</td>\n",
       "      <td>thompsonlindsay@example.net</td>\n",
       "      <td>2021/08/22</td>\n",
       "      <td>Tablet</td>\n",
       "      <td>1</td>\n",
       "      <td>400.0</td>\n",
       "      <td>400.0</td>\n",
       "    </tr>\n",
       "  </tbody>\n",
       "</table>\n",
       "<p>9988 rows × 8 columns</p>\n",
       "</div>"
      ]
     },
     "execution_count": 21,
     "metadata": {},
     "output_type": "execute_result"
    }
   ],
   "execution_count": 21
  },
  {
   "metadata": {},
   "cell_type": "markdown",
   "source": [
    "## Visualizing clean data\n",
    "\n",
    "Finally, we create visualizations to present insights into sales trends based on the cleaned data."
   ],
   "id": "94aa94a76003d885"
  },
  {
   "metadata": {},
   "cell_type": "markdown",
   "source": "### Total Quantity Sold per Product",
   "id": "f6a8d94d0046c391"
  },
  {
   "metadata": {
    "ExecuteTime": {
     "end_time": "2024-10-16T21:53:01.924095Z",
     "start_time": "2024-10-16T21:53:01.816945Z"
    }
   },
   "cell_type": "code",
   "source": [
    "# Aggregate 'Product' and 'Quantity' columns\n",
    "product_sales = df.groupby('Product')['Quantity'].sum().reset_index()\n",
    "\n",
    "# Sort the products by the total quantity sold\n",
    "product_sales = product_sales.sort_values(by='Quantity', ascending=False)\n",
    "\n",
    "plt.figure(figsize=(12, 8))\n",
    "plt.bar(product_sales['Product'], product_sales['Quantity'])\n",
    "\n",
    "plt.title('Total Quantity Sold per Product', fontsize=16)\n",
    "plt.xlabel('Product')\n",
    "plt.ylabel('Total Quantity Sold')\n",
    "plt.xticks(rotation=45)  # Rotate x labels for better visibility\n",
    "\n",
    "plt.show()"
   ],
   "id": "905c03ab6a9c8bdd",
   "outputs": [
    {
     "data": {
      "text/plain": [
       "<Figure size 1200x800 with 1 Axes>"
      ],
      "image/png": "[encoded data removed]"
     },
     "metadata": {},
     "output_type": "display_data"
    }
   ],
   "execution_count": 22
  },
  {
   "metadata": {},
   "cell_type": "markdown",
   "source": "### Total Amount Sold per Year",
   "id": "67dd13c8e842c477"
  },
  {
   "metadata": {
    "ExecuteTime": {
     "end_time": "2024-10-16T21:53:15.617810Z",
     "start_time": "2024-10-16T21:53:15.523735Z"
    }
   },
   "cell_type": "code",
   "source": [
    "# Ensure 'PurchaseDate' is in datetime format\n",
    "df['PurchaseDate'] = pd.to_datetime(df['PurchaseDate'])\n",
    "\n",
    "# Extract year from 'PurchaseDate'\n",
    "df['Year'] = df['PurchaseDate'].dt.year\n",
    "\n",
    "# Aggregate 'TotalAmount' by 'Year'\n",
    "annual_sales = df.groupby('Year')['TotalAmount'].sum().reset_index()\n",
    "\n",
    "plt.figure(figsize=(12, 8))\n",
    "plt.bar(annual_sales['Year'], annual_sales['TotalAmount'])\n",
    "\n",
    "plt.title('Total Amount Sold per Year', fontsize=16)\n",
    "plt.xlabel('Year')\n",
    "plt.ylabel('Total Amount Sold')\n",
    "plt.xticks(rotation=45)  # Rotate x labels for better visibility\n",
    "\n",
    "plt.show()"
   ],
   "id": "237ad168200fca0e",
   "outputs": [
    {
     "data": {
      "text/plain": [
       "<Figure size 1200x800 with 1 Axes>"
      ],
      "image/png": "[encoded data removed]"
     },
     "metadata": {},
     "output_type": "display_data"
    }
   ],
   "execution_count": 23
  },
  {
   "metadata": {},
   "cell_type": "code",
   "outputs": [],
   "execution_count": null,
   "source": "",
   "id": "a281cc65ef965f64"
  }
 ],
 "metadata": {
  "kernelspec": {
   "display_name": "Python 3",
   "language": "python",
   "name": "python3"
  },
  "language_info": {
   "codemirror_mode": {
    "name": "ipython",
    "version": 2
   },
   "file_extension": ".py",
   "mimetype": "text/x-python",
   "name": "python",
   "nbconvert_exporter": "python",
   "pygments_lexer": "ipython2",
   "version": "2.7.6"
  }
 },
 "nbformat": 4,
 "nbformat_minor": 5
}
